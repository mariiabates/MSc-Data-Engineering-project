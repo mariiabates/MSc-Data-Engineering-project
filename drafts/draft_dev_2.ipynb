{
 "cells": [
  {
   "cell_type": "code",
   "execution_count": null,
   "metadata": {},
   "outputs": [],
   "source": [
    "pub_1050554453b1c0327cbb09763d1c227223e8a"
   ]
  },
  {
   "cell_type": "code",
   "execution_count": 6,
   "metadata": {},
   "outputs": [
    {
     "data": {
      "text/plain": [
       "[{'title': 'Games with Gold September 2022 Reveal Schedule & Xbox Release Date',\n",
       "  'link': 'https://www.hitc.com/en-gb/2022/08/22/games-with-gold-september-2022-xbox-release-date/?utm_source=rss&utm_medium=rss&utm_campaign=games-with-gold-september-2022-xbox-release-date',\n",
       "  'keywords': ['Gaming', 'Gaming News', 'Games With Gold'],\n",
       "  'creator': ['Gary Jones'],\n",
       "  'video_url': None,\n",
       "  'description': 'Microsoft will reveal its plans for Games with Gold September 2022 before the end of the current month, including the final Xbox 360 titles that... The post Games with Gold September 2022 Reveal Schedule & Xbox Release Date appeared first on HITC.',\n",
       "  'content': 'Microsoft will reveal its plans for Games with Gold September 2022 before the end of the current month, including the final Xbox 360 titles that will be given away for free. September looks set to be the final month that fans receive four free games instead of two, and it’s unclear if the tech giant plans on changing anything else with its giveaways heading into October. The good news is that September will still feature four games in total, and here’s when fans can expect those new titles to arrive. MORE: New PS Plus September 2022 Free Games Pack Call of Duty: Warzone | Season Five ‘Last Stand’ Cinematic TrailerBridTV11114Call of Duty: Warzone | Season Five ‘Last Stand’ Cinematic Trailerhttps://i.ytimg.com/vi/X5fQ3APBw64/hqdefault.jpg10805741080574center13872 Games with Gold September 2022 Reveal Schedule The Games With Gold September 2022 announcement doesn’t have a set date, but recent months have seen it occur around the 28th of the month. This means that the news will likely be shared early next week, and is guaranteed to drop before September 1. This is the date when the first two Games with Gold games from the lineup will be launched, with a total of four being released over the coming weeks. Two of those titles will be sourced from Xbox One and the others from Xbox 360. A good time > winning pic.twitter.com/058Va2KefG— Xbox (@Xbox) August 20, 2022 However, in October, these older titles will be removed from the overall lineup, with Microsoft confirming that they can no longer provide fresh titles for the service due to the limitation of the tech on their remaining game catalogue. Xbox One titles will continue to be featured, with an Xbox announcement explaining: “Games with Gold will continue to include exciting Xbox One titles and exclusive savings each month.” The normal release schedule will be followed in September 2022, with new games going live on the following dates: First Xbox One Game: Available September 1 to 31Second Xbox One Game: Available September 16 to October 15First Xbox 360 Game: Available September 1 to 15Second Xbox 360 Game: Available September 16 to 31. There have been no leaks suggesting what might be included, and there is no reason to believe that any surprise Xbox Series X titles will be thrown into the mix. Most of the biggest games are saved for Xbox Game Pass, and without any substantial insider leaks, we don’t know what is coming next. The post Games with Gold September 2022 Reveal Schedule & Xbox Release Date appeared first on HITC.',\n",
       "  'pubDate': '2022-08-22 15:45:59',\n",
       "  'image_url': None,\n",
       "  'source_id': 'hitc',\n",
       "  'country': ['united kingdom'],\n",
       "  'category': ['top'],\n",
       "  'language': 'english'},\n",
       " {'title': 'Henry Cejudo was left stunned when Leon Edwards knocked out Kamaru Usman moments after he called the Brit ‘easy money’ at UFC 278',\n",
       "  'link': 'https://talksport.com/sport/mma/1176828/henry-cejudo-leon-edwards-knockout-kamaru-usman-easy-money-ufc-278/',\n",
       "  'keywords': ['MMA', 'Sport', 'ufc'],\n",
       "  'creator': ['Jordan Ellis'],\n",
       "  'video_url': None,\n",
       "  'description': None,\n",
       "  'content': \"Former dual-weight champion Henry Cejudo was quickly made to pay after calling Leon Edwards ‘easy money’ during his main event match-up with Kamaru Usman at UFC 278 on Saturday night. ‘Rocky’ became just the second British fighter in UFC history to hold a world title after he sensationally knocked out Usman in the fifth and final round in Salt Lake City. Edwards landed a massive head kick in the last round of his title fight with Usmangetty Despite starting well in the fight, Edwards seemed destined for a second defeat to ‘The Nigerian Nightmare’. Usman was just one minute away from a unanimous decision win before disaster struck and he was knocked out cold by a head kick. Just moments before that happened, ‘The King of Cringe’, turned to Ali Abdelaziz, who manages both him and Usman to claim that Edwards was easy money. “Hey Ali, easy money bro, easy money,” Cejudo said with a chuckle. It wasn’t long before the 35-year-old was made to eat his words. In a video posted to Cejudo’s YouTube channel, you can hear Edwards’ cornerman call for a head kick before the crowd goes wild after he perfectly executes the instruction. Cejudo was made to eat his words after getting cocky at UFC 278 Triple C was lost for words after Usman was KO’d Most read in MMA multi-talented Tom Hardy wins double gold at Brazilian Jiu-Jitsu competition chancer Edwards sends Drake message after rapper lost £170K betting against him at UFC 278 huge Dana White suggests Leon Edwards vs Kamaru Usman 3 could take place at Wembley Stadium AND NEW Edwards rallies to score fifth-round head kick KO win to dethrone Usman at UFC 278 savage Watch Rockhold wipe his blood all over Costa’s face before retiring at UFC 278 LOL McGregor laughs at Usman who ‘leaned his way to death' in KO loss to Edwards at UFC 278 Usman drops to the floor and Cejudo lets out an audible gasp and puts his hands to his face while looking at his manager who has his head between his knees. The camera then pans to the audience who are going absolutely wild following one of the most epic come-from-behind wins in MMA history. When the gobsmacked UFC star finally managed to utter some words, he pointed out a technical mistake Usman made before the KO, gave Edwards props, and suggested a rematch will happen next. Usman and Cejudo are friends@henry_cejudo - instagram A third fight between Edwards and Usman is nextgetty “You never want to do that [lean off to one side], bro. Fundamentally it is so wrong, man. Defence is your number one weapon, where you place your head,” Cejudo said. “He [Usman] is going to have to get his rematch. He [Edwards] deserves it, man. That dude waited for so long. He won, man. He won!” According to UFC president Dana White, the plan is to make Edwards vs Usman 3 in the UK later this year. The MMA boss suggested the trilogy fight could take place at Wembley Stadium in London but did express concerns about holding an outdoor show in a country notorious for its bad weather. TOP OFFER Bet365: Bet £10, Get £50 in Free Bets* – CLAIM HERE Open account offer. Bet £10 & Get £50 in Free Bets for new customers at bet365. Min deposit requirement. Free Bets are paid as Bet Credits and are available for use upon settlement of qualifying bets. Min odds, bet and payment method exclusions apply. Returns exclude Bet Credits stake. Time limits and T&Cs apply 18+ Begambleaware.org See All Free Bet Offers Here\",\n",
       "  'pubDate': '2022-08-22 15:45:10',\n",
       "  'image_url': None,\n",
       "  'source_id': 'talksport',\n",
       "  'country': ['united kingdom'],\n",
       "  'category': ['sports'],\n",
       "  'language': 'english'},\n",
       " {'title': '‘Unbelievable’: Pundit reacts after hearing who could reportedly leave Tottenham now',\n",
       "  'link': 'https://www.hitc.com/en-gb/2022/08/22/unbelievable-pundit-reacts-after-hearing-who-could-leave-tottenham-now/?utm_source=rss&utm_medium=rss&utm_campaign=unbelievable-pundit-reacts-after-hearing-who-could-leave-tottenham-now',\n",
       "  'keywords': ['Competitions',\n",
       "   'Football',\n",
       "   'Nottingham Forest',\n",
       "   'Premier League',\n",
       "   'Teams',\n",
       "   'Tottenham Hotspur',\n",
       "   'Sergio Reguilon'],\n",
       "  'creator': ['Subhankar Mondal'],\n",
       "  'video_url': None,\n",
       "  'description': 'Jose Enrique has said on Twitter that Tottenham Hotspur left-back Sergio Reguilon would be a good signing for Nottingham Forest in the summer transfer window.... The post ‘Unbelievable’: Pundit reacts after hearing who could reportedly leave Tottenham now appeared first on HITC.',\n",
       "  'content': 'Jose Enrique has said on Twitter that Tottenham Hotspur left-back Sergio Reguilon would be a good signing for Nottingham Forest in the summer transfer window. The former Liverpool star has said that Reguilon was “unbelievable” during his loan spell at Sevilla from Real Madrid before he moved to Tottenham. The Stadium Astro pundit believes that the 25-year-old Spain international, who can operate as a left-back or as a left wing-back, would be a great signing for Forest, who are playing in the Premier League this season after winning promotion from the Championship. The Athletic reported earlier today that Forest are in talks with Tottenham over signing the left-back on loan until the end of the season. Photo by Michael Regan/Getty Images Jose Enrique on Sergio Reguilon from Tottenham Hotspur to Nottingham Forest rumour It will be a great signing for Nottingham Forest. He was unbelievable at Seville before Madrid sold him to Tottenham. pic.twitter.com/0MqSt9upjt— José enrique (@Jesanchez3) August 22, 2022 In our view, Tottenham Hotspur left-back Sergio Reguilon would be a good signing for Nottingham Forest in the summer transfer window, especially on a loan deal. Reguilon may not be in Tottenham head coach Antonio Conte’s plans, but he has done relatively well in the Premier League and would make Forest better, both in attack and in defence. The post ‘Unbelievable’: Pundit reacts after hearing who could reportedly leave Tottenham now appeared first on HITC.',\n",
       "  'pubDate': '2022-08-22 15:45:00',\n",
       "  'image_url': None,\n",
       "  'source_id': 'hitc',\n",
       "  'country': ['united kingdom'],\n",
       "  'category': ['sports'],\n",
       "  'language': 'english'},\n",
       " {'title': 'talkSPORT Tuesday racing tips: Daily picks from Worcester, Bangor and Fontwell',\n",
       "  'link': 'https://talksport.com/sport/racing/1177049/talksport-tuesday-racing-tips-daily-worcester-bangor-fontwell/',\n",
       "  'keywords': ['Betting Tips', 'Horse Racing', 'betting'],\n",
       "  'creator': ['Tom Lunn'],\n",
       "  'video_url': None,\n",
       "  'description': None,\n",
       "  'content': 'Tuesday racing tips feature selections from Worcester, Bangor and Fontwell. talkSPORT have gone through the race cards and form so you don’t have to, with betting tips on the UK racing. Festive Glory finished behind Presentandcounting seen here winning at Worcester and that gives him a huge chance on Tuesday afternoonGETTY 888Sport – Bet £10 get £30 + £10 casino – CLAIM HERE* Jump racing is getting back into the swing of things with four meetings around the UK and Ireland, with Bellewstown holding an evening meeting alongside Fontwell. Worcester racing tips 2.30: Festive Glory 6/4 (NAP) Showed some promise novice hurdling at Uttoxeter in June behind Presentandcounting who went on to win by a huge distance so boosts Festive Glory’s chances in this sphere. Going up in trip should suit better than most and has in-form Paddy Brennan on board to get the job done. Bangor racing tips 5.20: Go On Chez 1/1 (NB) This course and distance winner was close to a six timer when chasing but struggled to keep up with the step up in class in July. But a return to this course and distance is ideal while also going down in class again. He should be better off than his main market rival who is running for the second time after a wind op, but at ten-years-old and bottom weight needs to find a bit more to win against this serial winner. 3.15: Al Roc 9/1 The outsider of the field is preferred here as a return to chasing looks to revive winning ways for a busy 11-year-old this summer. He was aimed at a Grade 3 back in July but was pulled up at 25/1 odds and now is dropped back to Class 3 company. The last time he faced this level he ran away a seven length winner over a similar distance at Market Rasen and after disappointing over hurdles between those decent chases still looks in great condition at a big price. Fontwell racing tips 4.30: Geromino 4/5 This match between Geromino and Notre Pari is incredibly close to call, with the former giving just 4lb to his rival. The Donald McCain-trained horse has had tough contests recently including over small fields of two, three and four. But finally things came together over this course when stepping up to 2m4f and won by over six lengths. Now off only a pound higher this odds-on shot looks the one to beat under Theo Gillard who takes off 3lb. Most read in Betting Tips BONUS Premier League betting offer: Bet £10 and get £50 in free bets with Bet365 BEST BETS talkSPORT Monday racing tips: Daily picks from Brighton and Stratford brink Premier League sack race: Erik ten Hag price slashed, Ralph Hasenhuttl favourite exclusive Bet £5 get £5 FREE BETS for all customers on talkSPORT EDGE app with Paddy Power RIVALRY Completely FREE £5 Bet Builder for Man United vs Liverpool with Paddy Power BONUS Man Utd vs Liverpool - bonus: Get a £5 FREE BET on Premier League clash, Bet365 New customer sign up offers Bet365: Bet £10 Get £50 – CLAIM HERE Min deposit requirement. Free Bets are paid as Bet Credits and are available for use upon settlement of qualifying bets. Min odds, bet and payment method exclusions apply. Returns exclude Bet Credits stake. Time limits and T&Cs apply 18+ Begambleaware.org Paddy Power: Bet £20 and get it back as Cash if it Loses – CLAIM HERE New customers only. Place your FIRST bet on any sportsbook market and if it loses we will refund your stake in CASH. Max refund for this offer is £20. Only deposits made using Cards or Apple Pay will qualify for this promotion. T&Cs apply. Paddy’s Rewards Club: Get a £10 free bet when you place 5x bets of £10+. T&Cs apply. 18+ Begambleaware.org 888Sport: Bet £10 Get £30 + £10 Casino – CLAIM HERE New customers only. Min deposit £10 • A qualifying bet is a ‘real money’ stake of at least £10 • Min odds 1/2 (1.5) • Free Bets credited upon qualifying bet settlement and expires after 7 days • Free Bet stakes not included in returns • Casino Bonus must be claimed within 7 days • To withdraw bonus/related wins, wager bonus amount x40 within 14 days • Casino bonus expires after 60 days • Withdrawal restrictions & full T&Cs apply 18+ begambleaware.org Betfair: Bet £10 Get £30 – CLAIM HERE New Customer offer. Place a min £10 bet on the Sportsbook on odds of min 1/2 (1.5), get £30 in Free Bets. Rewards valid for 30 days. SMS verification required. Only deposits via cards will qualify. T&Cs apply. Please Gamble Responsibly 18+ begambleaware.org Betfred: Bet £10 get £60 in Bonuses – CLAIM HERE New UK customers only. Register using the promo code BETFRED60, deposit and place first bet of £10+ on Sports (cumulative Evens+) within 7 days of registration. First bet must be on Sports. £20 in Free Bets to be used on Sports, £10 in Free Bets to be used on Lotto and 50 Free Spins (20p per spin) credited within 48 hours of bet settlement. Further £20 in Free Bets credited 5 days after settlement. Bonuses have a 7-day expiry. Payment restrictions apply. SMS verification and/or Proof of I.D and address may be required. Full T&Cs apply. 18+ Begambleaware.org BetVictor: Bet £10 Get £40 in Bonuses – CLAIM HERE 18+ New customers only. Opt in and place a £10 bet on Horse Racing at odds of 2.00+ within 7 days of opening a new account; excludes cashed out bets. Receive 3x £10 Horse Racing Free Bets, valid on set events only at odds 2.00+. Plus, a £10 Slot Bonus, selected games, wager 20x to withdraw a max of £250. Bonuses expire in 7 days. Card payments only. T&Cs Apply. begambleaware.org. Betway: £30 matched free bet if your first acca loses – CLAIM HERE New UK customers only. Min Deposit: £5. Maximum Free Bet: £30. First bet on a Football or Horse Racing multiple with 3+ selections. Overall odds: 3.00 (2/1) or higher. Free Bets available upon settlement of the qualifying bet. Debit card deposits only. Deposit method restrictions apply. This offer is valid for 7 days from your new account being registered. 18+. BeGambleAware.org. Bet The Responsible Way. Full terms apply. Commercial content notice: Taking one of the bookmaker offers featured in this article may result in a payment to talkSPORT. 18+. T&Cs apply. Begambleaware.org Remember to gamble responsibly A responsible gambler is someone who: Establishes time and monetary limits before playingOnly gambles with money they can afford to loseNever chase their lossesDoesn’t gamble if they’re upset, angry or depressedGamCare –\\xa0www.gamcare.org.ukGamble Aware –\\xa0www.begambleaware.org For help with a gambling problem, call the National Gambling Helpline on 0808 8020 133 or go to\\xa0www.gamstop.co.uk\\xa0to be excluded from all UK-regulated gambling websites. Most read in Betting Tips BONUS Premier League betting offer: Bet £10 and get £50 in free bets with Bet365 BEST BETS talkSPORT Monday racing tips: Daily picks from Brighton and Stratford brink Premier League sack race: Erik ten Hag price slashed, Ralph Hasenhuttl favourite exclusive Bet £5 get £5 FREE BETS for all customers on talkSPORT EDGE app with Paddy Power RIVALRY Completely FREE £5 Bet Builder for Man United vs Liverpool with Paddy Power BONUS Man Utd vs Liverpool - bonus: Get a £5 FREE BET on Premier League clash, Bet365',\n",
       "  'pubDate': '2022-08-22 15:43:45',\n",
       "  'image_url': None,\n",
       "  'source_id': 'talksport',\n",
       "  'country': ['united kingdom'],\n",
       "  'category': ['sports'],\n",
       "  'language': 'english'},\n",
       " {'title': 'The Electric Car Charging Problem Is Worse Than You Realized',\n",
       "  'link': 'https://www.slashgear.com/974731/the-electric-car-charging-problem-is-worse-than-you-realized/',\n",
       "  'keywords': ['Cars'],\n",
       "  'creator': None,\n",
       "  'video_url': None,\n",
       "  'description': 'A surprising percentage of electric vehicle drivers have had issues using EV charging stations on a regular basis over the past few years.',\n",
       "  'content': None,\n",
       "  'pubDate': '2022-08-22 15:42:46',\n",
       "  'image_url': None,\n",
       "  'source_id': 'slashgear',\n",
       "  'country': ['united states of america', 'united kingdom', 'singapore'],\n",
       "  'category': ['top'],\n",
       "  'language': 'english'},\n",
       " {'title': 'Ally McBeal reboot could see the return of Calista Flockhart',\n",
       "  'link': 'https://metro.co.uk/2022/08/22/ally-mcbeal-reboot-could-see-the-return-of-calista-flockhart-17224512/',\n",
       "  'keywords': ['TV', 'Calista Flockhart', 'US Showbiz news'],\n",
       "  'creator': ['Rebecca Sayce'],\n",
       "  'video_url': None,\n",
       "  'description': 'The hit law drama could return.',\n",
       "  'content': 'Get your briefcase ready…(Pictures: Getty / Rex) Hit comedy-drama series Ally McBeal is being eyed for a reboot at ABC and could see the return of Calista Flockhart as the titular character. The series will be a sequel to the original which first aired in 1997 starring the likes of Courtney Thorne-Smith, Greg Germann, Lisa Nicole Carson, and Jane Krakowski. Written and executive produced by Karin Gist, Deadline reported the new show will follow a young Black woman who joins the law firm from the original series straight out of law school. The lead character is believed to be the daughter of Renée Raddick, Ally’s D.C. roommate. Calista has been rumoured to have been approached to return to the role of Ally for the series, though this has not yet been confirmed. The original series ran until 2002, launching the original ‘dancing baby’ meme which took the internet by storm in its early days. The show is reportedly in development with ABC (Credits: Moviestore / REX / Shutterstock) The show will be a sequel to the original and follow a new leading lady (Picture: Moviestore / REX / Shutterstock) Calista Flockhart could return as Ally (Picture: Greg Gorman / 20th Century Fox / Kobal / REX / Shutterstock) It followed the life of Ally McBeal, a lawyer working in the Boston law firm Cage and Fish, as well as her co-workers. Ally McBeal won the Emmy for Outstanding Comedy Series in 1999, going on to win a further six during its time on TV. It remains influential two decades since its end, with the creative team behind the latest Marvel series She-Hulk listing it as inspiration for the show. Last year it was reported that another reboot of the show was in early development by 20th Television. MORE : Ryan Gosling to reunite with Barbie co-star Margot Robbie in her Ocean’s 11 reboot MORE : Kylie Jenner fires back at lip critics after new TikTok video with Stassie Karanikolaou Got a story? If you’ve got a celebrity story, video or pictures get in touch with the Metro.co.uk entertainment team by emailing us celebtips@metro.co.uk, calling 020 3615 2145 or by visiting our Submit Stuff page – we’d love to hear from you.',\n",
       "  'pubDate': '2022-08-22 15:42:41',\n",
       "  'image_url': 'https://metro.co.uk/wp-content/uploads/2022/08/SEC_120620517-391d.jpg?quality=90&strip=all',\n",
       "  'source_id': 'metro',\n",
       "  'country': ['united kingdom'],\n",
       "  'category': ['top'],\n",
       "  'language': 'english'},\n",
       " {'title': 'Sewage alerts: The long history of using maps to hold water companies accountable',\n",
       "  'link': 'https://phys.org/news/2022-08-sewage-history-companies-accountable.html',\n",
       "  'keywords': None,\n",
       "  'creator': None,\n",
       "  'video_url': None,\n",
       "  'description': \"Southern Water was handed a record fine of £90 million in July 2021 after pleading guilty to illegally discharging sewage along the rivers and coastline of Kent, Hampshire and Sussex. More than a year later, the headlines have not improved for Britain's embattled water companies who have recently discharged more sewage close to dozens of beaches.\",\n",
       "  'content': None,\n",
       "  'pubDate': '2022-08-22 15:42:04',\n",
       "  'image_url': 'https://scx1.b-cdn.net/csz/news/tmb/2022/sewage-alerts-the-long.jpg',\n",
       "  'source_id': 'phys',\n",
       "  'country': ['united states of america',\n",
       "   'united kingdom',\n",
       "   'australia',\n",
       "   'singapore'],\n",
       "  'category': ['science'],\n",
       "  'language': 'english'},\n",
       " {'title': 'Huge 41% savings on Ring video doorbells in massive Amazon sale',\n",
       "  'link': 'https://www.thesun.co.uk/tech/19582769/ring-video-doorbell-massive-amazon-sale/',\n",
       "  'keywords': ['Tech', 'Amazon', 'Deals and sales', 'eCommerce', 'Tech deals'],\n",
       "  'creator': ['Matt Breen'],\n",
       "  'video_url': None,\n",
       "  'description': None,\n",
       "  'content': 'AMAZON has dropped prices across the ENTIRE Ring doorbell range in a shock late-summer sale. So if you want to beef up your home security, now is the perfect time. You can save big on ALL Ring doorbells, cameras and security devices in Amazon’s smash sale Ring home security: save up to 41% – shop at Amazon Every single product in the Ring range is cheaper than usual: for example, you can pick up the basic wired Ring Video Doorbell for £39.99 (was £49.99) or in a bundle with the Chime speaker for £59.99 (was £79.98). It’s not just doorbells you’ll find on sale: for some interior home surveillance, you can pick up the Ring Indoor Camera for £39.99 (down from £49.99). Clever shoppers out there will also note the fact that the newest Echo Dot is also on sale for 40% less right now (was £49.99, now £29.99). This mini-size smart speaker can be linked up with the Ring doorbell, and will act as a two-way intercom whenever somebody rings at your door. In fact, we found a way to save even more cash on the Echo Dot with a simple little trick. It’s also worth taking a look at the discounts available on the rival Blink range of doorbells and cameras – you can pick up the all-new Blink Video Doorbell for 20% less right now (was £49.99, now £39.99). Amazon routinely slaps big discounts on its own devices, so you generally don’t need to wait too long if you want to save money on an Echo speaker, Fire tablet, Kindle e-reader or the like. We’ve always got the latest discounts and offers listed on our Amazon device deals page. Ring home security: save up to 41% – shop at Amazon MORE FROM AMAZON Ask Alexa Best Alexa compatible devices 2022: from lights to doorbells to vacuums SMART SAVINGS Get Amazon Kids Echo Dot for £17 with handy money-saving trick and save 71% Head to our tech deals hub for discounts on TVs, mobiles, SIM plans and more smart devices. We’ve got all the best contracts on Apple’s newest smartphone listed on our best iPhone 13 deals page. And for watching streaming content that’s not available in the UK, don’t miss our round-up of the best VPNs for Netflix.',\n",
       "  'pubDate': '2022-08-22 15:41:57',\n",
       "  'image_url': None,\n",
       "  'source_id': 'thesun',\n",
       "  'country': ['united kingdom'],\n",
       "  'category': ['technology'],\n",
       "  'language': 'english'},\n",
       " {'title': 'Researching the factors determining whether or not people become active cinemagoers',\n",
       "  'link': 'https://phys.org/news/2022-08-factors-people-cinemagoers.html',\n",
       "  'keywords': None,\n",
       "  'creator': None,\n",
       "  'video_url': None,\n",
       "  'description': 'Technology has brought the cinema to our homes. Huge screens, powerful sound systems, projectors, streaming services, and even active seating and other novelties, have all conspired to keep many cinemagoers away from the traditional venues for watching movies. This coupled with the COVID-19 pandemic that had many of us confined to our homes for the sake of personal and public health also reduced cinema attendance significantly and whether numbers are rising again in the purported post-pandemic era remains to be seen.',\n",
       "  'content': None,\n",
       "  'pubDate': '2022-08-22 15:39:02',\n",
       "  'image_url': 'https://scx1.b-cdn.net/csz/news/tmb/2022/movie-screen.jpg',\n",
       "  'source_id': 'phys',\n",
       "  'country': ['united states of america',\n",
       "   'united kingdom',\n",
       "   'australia',\n",
       "   'singapore'],\n",
       "  'category': ['business'],\n",
       "  'language': 'english'},\n",
       " {'title': 'What is the impact of cannabis use in adolescence?',\n",
       "  'link': 'https://www.news-medical.net/news/20220822/What-is-the-impact-of-cannabis-use-in-adolescence.aspx',\n",
       "  'keywords': None,\n",
       "  'creator': None,\n",
       "  'video_url': None,\n",
       "  'description': 'A new study summarized the use of cannabis among adolescents, its negative health impacts, and interventions to stop or reduce',\n",
       "  'content': None,\n",
       "  'pubDate': '2022-08-22 15:39:00',\n",
       "  'image_url': 'https://d2jx2rerrg6sh3.cloudfront.net/images/news/ImageForNews_722976_16611814383524394.jpg',\n",
       "  'source_id': 'news-medical',\n",
       "  'country': ['united states of america',\n",
       "   'united kingdom',\n",
       "   'india',\n",
       "   'australia',\n",
       "   'singapore',\n",
       "   'canada'],\n",
       "  'category': ['health'],\n",
       "  'language': 'english'}]"
      ]
     },
     "execution_count": 6,
     "metadata": {},
     "output_type": "execute_result"
    }
   ],
   "source": [
    "from newsdataapi import NewsDataApiClient\n",
    "\n",
    "api = NewsDataApiClient(apikey=\"\")\n",
    "\n",
    "response = api.news_api(country = \"gb\", language=\"en\")\n",
    "articles = response.get(\"results\")  # list of dicts\n",
    "id = res.get(\"link\")\n",
    "text = res.get(\"content\")\n",
    "\n",
    "for article in articles:\n",
    "    yield article.get(\"link\"), res.get(\"content\")"
   ]
  },
  {
   "cell_type": "code",
   "execution_count": 70,
   "metadata": {},
   "outputs": [
    {
     "name": "stdout",
     "output_type": "stream",
     "text": [
      "Collecting Scikit-multilearn\n",
      "\u001b[?25l  Downloading https://files.pythonhosted.org/packages/bb/1f/e6ff649c72a1cdf2c7a1d31eb21705110ce1c5d3e7e26b2cc300e1637272/scikit_multilearn-0.2.0-py3-none-any.whl (89kB)\n",
      "\u001b[K     |████████████████████████████████| 92kB 5.9MB/s eta 0:00:01\n",
      "\u001b[?25hInstalling collected packages: Scikit-multilearn\n",
      "Successfully installed Scikit-multilearn-0.2.0\n",
      "\u001b[33mWARNING: You are using pip version 19.2.3, however version 22.2.1 is available.\n",
      "You should consider upgrading via the 'pip install --upgrade pip' command.\u001b[0m\n"
     ]
    }
   ],
   "source": [
    "# !pip install transformers\n",
    "# !pip install pandas\n",
    "# !pip install sklearn\n",
    "!pip install Scikit-multilearn"
   ]
  },
  {
   "cell_type": "code",
   "execution_count": 1,
   "metadata": {},
   "outputs": [
    {
     "name": "stdout",
     "output_type": "stream",
     "text": [
      "2225\n"
     ]
    },
    {
     "data": {
      "text/html": [
       "<div>\n",
       "<style scoped>\n",
       "    .dataframe tbody tr th:only-of-type {\n",
       "        vertical-align: middle;\n",
       "    }\n",
       "\n",
       "    .dataframe tbody tr th {\n",
       "        vertical-align: top;\n",
       "    }\n",
       "\n",
       "    .dataframe thead th {\n",
       "        text-align: right;\n",
       "    }\n",
       "</style>\n",
       "<table border=\"1\" class=\"dataframe\">\n",
       "  <thead>\n",
       "    <tr style=\"text-align: right;\">\n",
       "      <th></th>\n",
       "      <th>label</th>\n",
       "      <th>text_raw</th>\n",
       "    </tr>\n",
       "  </thead>\n",
       "  <tbody>\n",
       "    <tr>\n",
       "      <th>0</th>\n",
       "      <td>entertainment</td>\n",
       "      <td>Musicians to tackle US red tape\\n\\nMusicians' ...</td>\n",
       "    </tr>\n",
       "    <tr>\n",
       "      <th>1</th>\n",
       "      <td>entertainment</td>\n",
       "      <td>U2's desire to be number one\\n\\nU2, who have w...</td>\n",
       "    </tr>\n",
       "    <tr>\n",
       "      <th>2</th>\n",
       "      <td>entertainment</td>\n",
       "      <td>Rocker Doherty in on-stage fight\\n\\nRock singe...</td>\n",
       "    </tr>\n",
       "    <tr>\n",
       "      <th>3</th>\n",
       "      <td>entertainment</td>\n",
       "      <td>Snicket tops US box office chart\\n\\nThe film a...</td>\n",
       "    </tr>\n",
       "    <tr>\n",
       "      <th>4</th>\n",
       "      <td>entertainment</td>\n",
       "      <td>Ocean's Twelve raids box office\\n\\nOcean's Twe...</td>\n",
       "    </tr>\n",
       "  </tbody>\n",
       "</table>\n",
       "</div>"
      ],
      "text/plain": [
       "           label                                           text_raw\n",
       "0  entertainment  Musicians to tackle US red tape\\n\\nMusicians' ...\n",
       "1  entertainment  U2's desire to be number one\\n\\nU2, who have w...\n",
       "2  entertainment  Rocker Doherty in on-stage fight\\n\\nRock singe...\n",
       "3  entertainment  Snicket tops US box office chart\\n\\nThe film a...\n",
       "4  entertainment  Ocean's Twelve raids box office\\n\\nOcean's Twe..."
      ]
     },
     "execution_count": 1,
     "metadata": {},
     "output_type": "execute_result"
    }
   ],
   "source": [
    "import os\n",
    "import pandas as pd\n",
    "  \n",
    "### Get raw_data_labeled DF\n",
    "\n",
    "data_dir = \"./data\"\n",
    "   \n",
    "def get_label_and_text(path):\n",
    "    '''\n",
    "    Path should have folders indicating labels \n",
    "    with sorted .txt files containing text data.\n",
    "    \n",
    "    '''\n",
    "    for subdir, dirs, files in os.walk(path):\n",
    "        for file in files:\n",
    "            parent_dir = os.path.basename(subdir)\n",
    "            file_path = os.path.join(subdir, file)\n",
    "            if not file_path.endswith('txt'):\n",
    "                continue\n",
    "            with open(file_path) as f:\n",
    "                text = f.read()\n",
    "                yield (parent_dir, text)\n",
    "    \n",
    "\n",
    "labeled_data_generator = get_label_and_text(data_dir)\n",
    "raw_data_labeled = pd.DataFrame(labeled_data_generator, columns=[\"label\", \"text_raw\"])\n",
    "\n",
    "print(len(raw_data_labeled))  # 2225\n",
    "\n",
    "raw_data_labeled.head()"
   ]
  },
  {
   "cell_type": "code",
   "execution_count": 2,
   "metadata": {},
   "outputs": [
    {
     "data": {
      "text/plain": [
       "0       Musicians to tackle US red tape\\n\\nMusicians' ...\n",
       "1       U2's desire to be number one\\n\\nU2, who have w...\n",
       "2       Rocker Doherty in on-stage fight\\n\\nRock singe...\n",
       "3       Snicket tops US box office chart\\n\\nThe film a...\n",
       "4       Ocean's Twelve raids box office\\n\\nOcean's Twe...\n",
       "                              ...                        \n",
       "2220    Warning over Windows Word files\\n\\nWriting a M...\n",
       "2221    Fast lifts rise into record books\\n\\nTwo high-...\n",
       "2222    Nintendo adds media playing to DS\\n\\nNintendo ...\n",
       "2223    Fast moving phone viruses appear\\n\\nSecurity f...\n",
       "2224    Hacker threat to Apple's iTunes\\n\\nUsers of Ap...\n",
       "Name: text_raw, Length: 2225, dtype: object"
      ]
     },
     "execution_count": 2,
     "metadata": {},
     "output_type": "execute_result"
    }
   ],
   "source": [
    "df = raw_data_labeled\n",
    "df['text_raw']"
   ]
  },
  {
   "cell_type": "code",
   "execution_count": 52,
   "metadata": {},
   "outputs": [
    {
     "ename": "NameError",
     "evalue": "name 'nltk' is not defined",
     "output_type": "error",
     "traceback": [
      "\u001b[0;31m---------------------------------------------------------------------------\u001b[0m",
      "\u001b[0;31mNameError\u001b[0m                                 Traceback (most recent call last)",
      "Input \u001b[0;32mIn [52]\u001b[0m, in \u001b[0;36m<cell line: 2>\u001b[0;34m()\u001b[0m\n\u001b[1;32m      1\u001b[0m \u001b[38;5;66;03m# !pip install nltk\u001b[39;00m\n\u001b[0;32m----> 2\u001b[0m \u001b[43mnltk\u001b[49m\u001b[38;5;241m.\u001b[39mdownload(\u001b[38;5;124m'\u001b[39m\u001b[38;5;124mstopwords\u001b[39m\u001b[38;5;124m'\u001b[39m)\n",
      "\u001b[0;31mNameError\u001b[0m: name 'nltk' is not defined"
     ]
    }
   ],
   "source": [
    "# !pip install nltk\n",
    "nltk.download('stopwords')"
   ]
  },
  {
   "cell_type": "code",
   "execution_count": 53,
   "metadata": {},
   "outputs": [
    {
     "name": "stderr",
     "output_type": "stream",
     "text": [
      "[nltk_data] Downloading package stopwords to /Users/Maria/nltk_data...\n",
      "[nltk_data]   Unzipping corpora/stopwords.zip.\n"
     ]
    },
    {
     "data": {
      "text/plain": [
       "True"
      ]
     },
     "execution_count": 53,
     "metadata": {},
     "output_type": "execute_result"
    }
   ],
   "source": [
    "import nltk\n",
    "# nltk.download()\n",
    "nltk.download('stopwords')"
   ]
  },
  {
   "cell_type": "code",
   "execution_count": 90,
   "metadata": {},
   "outputs": [
    {
     "data": {
      "text/html": [
       "<div>\n",
       "<style scoped>\n",
       "    .dataframe tbody tr th:only-of-type {\n",
       "        vertical-align: middle;\n",
       "    }\n",
       "\n",
       "    .dataframe tbody tr th {\n",
       "        vertical-align: top;\n",
       "    }\n",
       "\n",
       "    .dataframe thead th {\n",
       "        text-align: right;\n",
       "    }\n",
       "</style>\n",
       "<table border=\"1\" class=\"dataframe\">\n",
       "  <thead>\n",
       "    <tr style=\"text-align: right;\">\n",
       "      <th></th>\n",
       "      <th>label</th>\n",
       "      <th>text_raw</th>\n",
       "      <th>text_clean</th>\n",
       "      <th>label_nums</th>\n",
       "    </tr>\n",
       "  </thead>\n",
       "  <tbody>\n",
       "    <tr>\n",
       "      <th>0</th>\n",
       "      <td>entertainment</td>\n",
       "      <td>Musicians to tackle US red tape\\n\\nMusicians' ...</td>\n",
       "      <td>['musician', 'tackl', 'us', 'red', 'tape', 'mu...</td>\n",
       "      <td>1</td>\n",
       "    </tr>\n",
       "    <tr>\n",
       "      <th>1</th>\n",
       "      <td>entertainment</td>\n",
       "      <td>U2's desire to be number one\\n\\nU2, who have w...</td>\n",
       "      <td>['u2', 'desir', 'number', 'one', 'u2', 'three'...</td>\n",
       "      <td>1</td>\n",
       "    </tr>\n",
       "    <tr>\n",
       "      <th>2</th>\n",
       "      <td>entertainment</td>\n",
       "      <td>Rocker Doherty in on-stage fight\\n\\nRock singe...</td>\n",
       "      <td>['rocker', 'doherti', 'onstag', 'fight', 'rock...</td>\n",
       "      <td>1</td>\n",
       "    </tr>\n",
       "    <tr>\n",
       "      <th>3</th>\n",
       "      <td>entertainment</td>\n",
       "      <td>Snicket tops US box office chart\\n\\nThe film a...</td>\n",
       "      <td>['snicket', 'top', 'us', 'box', 'offic', 'char...</td>\n",
       "      <td>1</td>\n",
       "    </tr>\n",
       "    <tr>\n",
       "      <th>4</th>\n",
       "      <td>entertainment</td>\n",
       "      <td>Ocean's Twelve raids box office\\n\\nOcean's Twe...</td>\n",
       "      <td>['ocean', 'twelv', 'raid', 'box', 'offic', 'oc...</td>\n",
       "      <td>1</td>\n",
       "    </tr>\n",
       "  </tbody>\n",
       "</table>\n",
       "</div>"
      ],
      "text/plain": [
       "           label                                           text_raw  \\\n",
       "0  entertainment  Musicians to tackle US red tape\\n\\nMusicians' ...   \n",
       "1  entertainment  U2's desire to be number one\\n\\nU2, who have w...   \n",
       "2  entertainment  Rocker Doherty in on-stage fight\\n\\nRock singe...   \n",
       "3  entertainment  Snicket tops US box office chart\\n\\nThe film a...   \n",
       "4  entertainment  Ocean's Twelve raids box office\\n\\nOcean's Twe...   \n",
       "\n",
       "                                          text_clean  label_nums  \n",
       "0  ['musician', 'tackl', 'us', 'red', 'tape', 'mu...           1  \n",
       "1  ['u2', 'desir', 'number', 'one', 'u2', 'three'...           1  \n",
       "2  ['rocker', 'doherti', 'onstag', 'fight', 'rock...           1  \n",
       "3  ['snicket', 'top', 'us', 'box', 'offic', 'char...           1  \n",
       "4  ['ocean', 'twelv', 'raid', 'box', 'offic', 'oc...           1  "
      ]
     },
     "execution_count": 90,
     "metadata": {},
     "output_type": "execute_result"
    }
   ],
   "source": [
    "### CLEAN AND TOKENIZE\n",
    "from nltk.tokenize import word_tokenize\n",
    "from nltk.corpus import stopwords\n",
    "from nltk.stem.porter import PorterStemmer\n",
    "import string\n",
    "\n",
    "def clean_text(column):\n",
    "    column = column.str.lower()\n",
    "    column = column.str.replace(f'[{string.punctuation}]', '', regex=True)\n",
    "    column = column.str.replace('\\n',' ', regex=True)\n",
    "    column = column.apply(word_tokenize)\n",
    "    stop_words = set(stopwords.words('english'))\n",
    "    column = column.apply(lambda words: [w for w in words if not w in stop_words])\n",
    "    column = column.apply(lambda words: [PorterStemmer().stem(word) for word in words]) \n",
    "    return column\n",
    "                          \n",
    "df['text_clean'] = clean_text(df['text_raw'])\n",
    "df.head()"
   ]
  },
  {
   "cell_type": "code",
   "execution_count": 91,
   "metadata": {},
   "outputs": [
    {
     "name": "stdout",
     "output_type": "stream",
     "text": [
      "0       ['musician', 'tackl', 'us', 'red', 'tape', 'mu...\n",
      "1       ['u2', 'desir', 'number', 'one', 'u2', 'three'...\n",
      "2       ['rocker', 'doherti', 'onstag', 'fight', 'rock...\n",
      "3       ['snicket', 'top', 'us', 'box', 'offic', 'char...\n",
      "4       ['ocean', 'twelv', 'raid', 'box', 'offic', 'oc...\n",
      "                              ...                        \n",
      "2220    ['warn', 'window', 'word', 'file', 'write', 'm...\n",
      "2221    ['fast', 'lift', 'rise', 'record', 'book', 'tw...\n",
      "2222    ['nintendo', 'add', 'media', 'play', 'ds', 'ni...\n",
      "2223    ['fast', 'move', 'phone', 'virus', 'appear', '...\n",
      "2224    ['hacker', 'threat', 'appl', 'itun', 'user', '...\n",
      "Name: text_clean, Length: 2225, dtype: object\n",
      "0       1\n",
      "1       1\n",
      "2       1\n",
      "3       1\n",
      "4       1\n",
      "       ..\n",
      "2220    4\n",
      "2221    4\n",
      "2222    4\n",
      "2223    4\n",
      "2224    4\n",
      "Name: label_nums, Length: 2225, dtype: int64\n"
     ]
    },
    {
     "data": {
      "text/plain": [
       "pandas.core.series.Series"
      ]
     },
     "execution_count": 91,
     "metadata": {},
     "output_type": "execute_result"
    }
   ],
   "source": [
    "# Encode labels\n",
    "from sklearn.preprocessing import LabelEncoder\n",
    "df[\"label_nums\"] = LabelEncoder().fit_transform(df[\"label\"])\n",
    "df.tail()\n",
    "\n",
    "\n",
    "df[\"label_nums\"].nunique()\n",
    "\n",
    "X = df[\"text_clean\"]\n",
    "y = df[\"label_nums\"]\n",
    "print(X)\n",
    "print(y)"
   ]
  },
  {
   "cell_type": "code",
   "execution_count": 92,
   "metadata": {},
   "outputs": [
    {
     "name": "stdout",
     "output_type": "stream",
     "text": [
      "hi\n"
     ]
    },
    {
     "data": {
      "text/plain": [
       "1192    ['wolv', 'appoint', 'hoddl', 'manag', 'glenn',...\n",
       "22      ['produc', 'scoop', 'stage', 'award', 'produc'...\n",
       "1539    ['chancellor', 'ralli', 'labour', 'voter', 'go...\n",
       "1965    ['long', 'life', 'promis', 'laptop', 'pc', 'sc...\n",
       "254     ['veteran', 'comic', 'cyril', 'fletcher', 'die...\n",
       "                              ...                        \n",
       "806     ['diageo', 'buy', 'us', 'wine', 'firm', 'diage...\n",
       "750     ['takeov', 'rumour', 'lift', 'exel', 'share', ...\n",
       "209     ['aviat', 'vera', 'take', 'bafta', 'glori', 'h...\n",
       "1320    ['highburi', 'tunnel', 'player', 'clear', 'foo...\n",
       "1568    ['crucial', 'decis', 'supercasino', 'decis', '...\n",
       "Name: text_clean, Length: 668, dtype: object"
      ]
     },
     "execution_count": 92,
     "metadata": {},
     "output_type": "execute_result"
    }
   ],
   "source": [
    "from sklearn.model_selection import train_test_split\n",
    "\n",
    "X_train, X_test, y_train, y_test = train_test_split(\n",
    "    X, y, train_size=0.7, stratify=y)\n",
    "\n",
    "X_test"
   ]
  },
  {
   "cell_type": "code",
   "execution_count": 104,
   "metadata": {},
   "outputs": [],
   "source": [
    "## Feature extraction = Vectorization and Train\n",
    "\n",
    "from sklearn.feature_extraction.text import TfidfVectorizer\n",
    "from sklearn.naive_bayes import MultinomialNB\n",
    "from sklearn.pipeline import Pipeline\n",
    "from sklearn.metrics import accuracy_score\n",
    "\n",
    "nb = Pipeline([('tfidf', TfidfVectorizer()),\n",
    "               ('clf', MultinomialNB()),\n",
    "              ])\n",
    "              \n",
    "nb.fit(X_train,y_train)\n",
    "\n",
    "test_predict = nb.predict(X_test)\n",
    "\n",
    "train_accuracy = round(nb.score(X_train,y_train)*100)\n",
    "test_accuracy =round(accuracy_score(test_predict, y_test)*100)\n",
    "\n"
   ]
  },
  {
   "cell_type": "code",
   "execution_count": 105,
   "metadata": {},
   "outputs": [
    {
     "name": "stdout",
     "output_type": "stream",
     "text": [
      "99\n",
      "97\n"
     ]
    }
   ],
   "source": [
    "print(train_accuracy)\n",
    "print(test_accuracy)"
   ]
  },
  {
   "cell_type": "code",
   "execution_count": 9,
   "metadata": {},
   "outputs": [
    {
     "name": "stdout",
     "output_type": "stream",
     "text": [
      "/usr/local/opt/python@3.8/bin/python3.8\n"
     ]
    }
   ],
   "source": [
    "import sys\n",
    "print(sys.executable)"
   ]
  },
  {
   "cell_type": "code",
   "execution_count": 11,
   "metadata": {},
   "outputs": [
    {
     "data": {
      "text/plain": [
       "'3.8.3 (default, Jul  8 2020, 14:27:55) \\n[Clang 11.0.3 (clang-1103.0.32.62)]'"
      ]
     },
     "execution_count": 11,
     "metadata": {},
     "output_type": "execute_result"
    }
   ],
   "source": [
    "import sys\n",
    "\n",
    "sys.version"
   ]
  },
  {
   "cell_type": "code",
   "execution_count": null,
   "metadata": {},
   "outputs": [],
   "source": [
    "# pip install -q transformers\n",
    "print(\"hi\")\n",
    "from transformers import pipeline\n",
    "sentiment_pipeline = pipeline(model=\"finiteautomata/bertweet-base-sentiment-analysis\")\n",
    "data = [\"I love you\", \"I hate you\"]\n",
    "sentiment_pipeline(data)"
   ]
  },
  {
   "cell_type": "code",
   "execution_count": null,
   "metadata": {},
   "outputs": [
    {
     "name": "stdout",
     "output_type": "stream",
     "text": [
      "Collecting torch\n",
      "\u001b[?25l  Downloading https://files.pythonhosted.org/packages/94/53/3ee8fed5449e108a7ddfe7a89736e2998461f9778c889737eab43aa24a56/torch-1.12.0-cp38-none-macosx_10_9_x86_64.whl (137.6MB)\n",
      "\u001b[K     |████████████████████████████████| 137.6MB 58kB/s  eta 0:00:01\n",
      "\u001b[?25hRequirement already satisfied: typing-extensions in ./env-classifier/lib/python3.8/site-packages (from torch) (4.3.0)\n",
      "Installing collected packages: torch\n"
     ]
    }
   ],
   "source": [
    "!pip install torch"
   ]
  },
  {
   "cell_type": "code",
   "execution_count": null,
   "metadata": {},
   "outputs": [],
   "source": [
    "!pip install transformers"
   ]
  },
  {
   "cell_type": "code",
   "execution_count": null,
   "metadata": {},
   "outputs": [],
   "source": []
  }
 ],
 "metadata": {
  "kernelspec": {
   "display_name": "Python 3.8.3 ('env': venv)",
   "language": "python",
   "name": "python3"
  },
  "language_info": {
   "codemirror_mode": {
    "name": "ipython",
    "version": 3
   },
   "file_extension": ".py",
   "mimetype": "text/x-python",
   "name": "python",
   "nbconvert_exporter": "python",
   "pygments_lexer": "ipython3",
   "version": "3.8.3"
  },
  "vscode": {
   "interpreter": {
    "hash": "ac0d49714e68a95b46301f6f42fa7856180e060e0d040b93c094694c7e90a95c"
   }
  }
 },
 "nbformat": 4,
 "nbformat_minor": 4
}
